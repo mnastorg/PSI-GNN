{
 "cells": [
  {
   "cell_type": "code",
   "execution_count": 1,
   "id": "a12af36c",
   "metadata": {},
   "outputs": [],
   "source": [
    "%load_ext autoreload\n",
    "%autoreload 2"
   ]
  },
  {
   "attachments": {},
   "cell_type": "markdown",
   "id": "345cf8f5",
   "metadata": {},
   "source": [
    "### Load Packages"
   ]
  },
  {
   "cell_type": "code",
   "execution_count": 3,
   "id": "ea1b2c18",
   "metadata": {},
   "outputs": [
    {
     "name": "stdout",
     "output_type": "stream",
     "text": [
      "Random seed set as 1234\n",
      "Random seed set as 1234\n",
      "Random seed set as 1234\n"
     ]
    }
   ],
   "source": [
    "import warnings\n",
    "warnings.filterwarnings('ignore')\n",
    "\n",
    "import sys \n",
    "sys.path.append(\"..\")\n",
    "\n",
    "import numpy as np\n",
    "from importlib import reload \n",
    "\n",
    "import torch\n",
    "from torch_geometric.loader import DataLoader\n",
    "import vis \n",
    "\n",
    "from dirichlet.dss.utilities import reader as reader_dss\n",
    "from dirichlet.dsgps.utilities import reader as reader_dsgps\n",
    "from dirichlet.psignn.utilities import reader as reader_psignn\n",
    "\n",
    "import test_func_dirichlet as tst_diri\n",
    "\n",
    "from importlib import reload"
   ]
  },
  {
   "attachments": {},
   "cell_type": "markdown",
   "id": "f0555424",
   "metadata": {},
   "source": [
    "### Load datasets and device"
   ]
  },
  {
   "cell_type": "code",
   "execution_count": 4,
   "id": "52c947be",
   "metadata": {},
   "outputs": [
    {
     "name": "stdout",
     "output_type": "stream",
     "text": [
      "Running on cuda. GPU model : Quadro T2000 with Max-Q Design\n"
     ]
    },
    {
     "name": "stderr",
     "output_type": "stream",
     "text": [
      "Processing...\n",
      "Done!\n",
      "Processing...\n"
     ]
    },
    {
     "name": "stdout",
     "output_type": "stream",
     "text": [
      "Number of samples in the test dataset :  2000\n"
     ]
    },
    {
     "name": "stderr",
     "output_type": "stream",
     "text": [
      "Done!\n"
     ]
    }
   ],
   "source": [
    "device = torch.device('cuda' if torch.cuda.is_available() else 'cpu')\n",
    "print(\"Running on {}. GPU model : {}\".format(device, torch.cuda.get_device_name(0)))\n",
    "\n",
    "path_dataset = \"../dirichlet/dataset/dConstant\"\n",
    "\n",
    "dataset_test_dss = reader_dss.BuildDataset(root = path_dataset, mode = 'test', precision = torch.float)\n",
    "dataset_test_dsgps = reader_dsgps.BuildDataset(root = path_dataset, mode = 'test', precision = torch.float)\n",
    "dataset_test_psignn = reader_psignn.BuildDataset(root = path_dataset, mode = 'test', precision = torch.float)\n",
    "\n",
    "loader_test_dss = DataLoader(dataset_test_dss,  batch_size = 50, shuffle = False, num_workers = 0)\n",
    "loader_test_dsgps = DataLoader(dataset_test_dsgps,  batch_size = 50, shuffle = False, num_workers = 0)\n",
    "loader_test_psignn = DataLoader(dataset_test_psignn,  batch_size = 50, shuffle = False, num_workers = 0)\n",
    "\n",
    "print(\"Number of samples in the test dataset : \", len(dataset_test_dss))"
   ]
  },
  {
   "cell_type": "code",
   "execution_count": 11,
   "id": "fe0e4333",
   "metadata": {},
   "outputs": [
    {
     "name": "stderr",
     "output_type": "stream",
     "text": [
      "100%|██████████| 40/40 [00:06<00:00,  6.29it/s]\n"
     ]
    },
    {
     "name": "stdout",
     "output_type": "stream",
     "text": [
      "std Res :  0.0006447584119220842\n",
      "std ResNorm :  0.0018105203033577258\n",
      "std MSE :  0.06193479272430736\n",
      "std Rel :  0.012374445408553418\n",
      "std MSEBound :  0.004232850931861129\n",
      "┍━━━━━━━━┯━━━━━━━━━━━━┯━━━━━━━━━━━━━━━━┯━━━━━━━━━━━┯━━━━━━━━━━━┯━━━━━━━━━━━━┑\n",
      "│ Name   │   Residual │   ResidualNorm │       MSE │       Rel │   MSEBound │\n",
      "┝━━━━━━━━┿━━━━━━━━━━━━┿━━━━━━━━━━━━━━━━┿━━━━━━━━━━━┿━━━━━━━━━━━┿━━━━━━━━━━━━┥\n",
      "│ DSS    │  2.255e-04 │      4.446e-03 │ 3.004e-02 │ 2.135e-02 │  4.905e-04 │\n",
      "┕━━━━━━━━┷━━━━━━━━━━━━┷━━━━━━━━━━━━━━━━┷━━━━━━━━━━━┷━━━━━━━━━━━┷━━━━━━━━━━━━┙\n"
     ]
    },
    {
     "name": "stderr",
     "output_type": "stream",
     "text": [
      "100%|██████████| 40/40 [00:07<00:00,  5.49it/s]\n"
     ]
    },
    {
     "name": "stdout",
     "output_type": "stream",
     "text": [
      "std Res :  0.0022486107407343413\n",
      "std ResNorm :  0.004721722518202014\n",
      "std MSE :  0.14681951799628346\n",
      "std Rel :  0.02294320516046824\n",
      "std MSEBound :  0.0010355861415597128\n",
      "┍━━━━━━━━┯━━━━━━━━━━━━┯━━━━━━━━━━━━━━━━┯━━━━━━━━━━━┯━━━━━━━━━━━┯━━━━━━━━━━━━┑\n",
      "│ Name   │   Residual │   ResidualNorm │       MSE │       Rel │   MSEBound │\n",
      "┝━━━━━━━━┿━━━━━━━━━━━━┿━━━━━━━━━━━━━━━━┿━━━━━━━━━━━┿━━━━━━━━━━━┿━━━━━━━━━━━━┥\n",
      "│ DSGPS  │  1.953e-03 │      1.461e-02 │ 6.583e-02 │ 3.078e-02 │  4.810e-04 │\n",
      "┕━━━━━━━━┷━━━━━━━━━━━━┷━━━━━━━━━━━━━━━━┷━━━━━━━━━━━┷━━━━━━━━━━━┷━━━━━━━━━━━━┙\n"
     ]
    },
    {
     "name": "stderr",
     "output_type": "stream",
     "text": [
      "100%|██████████| 40/40 [00:39<00:00,  1.00it/s]"
     ]
    },
    {
     "name": "stdout",
     "output_type": "stream",
     "text": [
      "std Res :  0.001394553072378042\n",
      "std ResNorm :  0.0060082541720416025\n",
      "std MSE :  0.009848665632085406\n",
      "std Rel :  0.013972162701993269\n",
      "std MSEBound :  1.3202137910798963e-05\n",
      "┍━━━━━━━━┯━━━━━━━━━━━━┯━━━━━━━━━━━━━━━━┯━━━━━━━━━━━┯━━━━━━━━━━━┯━━━━━━━━━━━━┑\n",
      "│ Name   │   Residual │   ResidualNorm │       MSE │       Rel │   MSEBound │\n",
      "┝━━━━━━━━┿━━━━━━━━━━━━┿━━━━━━━━━━━━━━━━┿━━━━━━━━━━━┿━━━━━━━━━━━┿━━━━━━━━━━━━┥\n",
      "│ PSIGNN │  2.695e-03 │      1.752e-02 │ 8.408e-03 │ 1.441e-02 │  1.930e-05 │\n",
      "┕━━━━━━━━┷━━━━━━━━━━━━┷━━━━━━━━━━━━━━━━┷━━━━━━━━━━━┷━━━━━━━━━━━┷━━━━━━━━━━━━┙\n"
     ]
    },
    {
     "name": "stderr",
     "output_type": "stream",
     "text": [
      "\n"
     ]
    }
   ],
   "source": [
    "reload(tst_diri)\n",
    "\n",
    "ckpt_best_dss = torch.load(\"../dirichlet/dss/results/dss_results/ckpt/best_model.pt\")\n",
    "ckpt_best_dsgps = torch.load(\"../dirichlet/dsgps/results/constant_dataset/30_ite_gamma_1/ckpt/best_model.pt\")\n",
    "ckpt_best_psignn = torch.load(\"../dirichlet/psignn/results/constant_dataset/ckpt/running_model.pt\")\n",
    "\n",
    "list_best_model = [ckpt_best_dss, ckpt_best_dsgps, ckpt_best_psignn]\n",
    "list_names = [\"DSS\", \"DSGPS\", \"PSIGNN\"]\n",
    "list_ids = [0, 1, 2]\n",
    "list_dataloader = [loader_test_dss, loader_test_dsgps, loader_test_psignn]\n",
    "\n",
    "tst_diri.test_model(list_best_model, list_names, list_ids, list_dataloader, device)"
   ]
  }
 ],
 "metadata": {
  "kernelspec": {
   "display_name": "Python 3 (ipykernel)",
   "language": "python",
   "name": "python3"
  },
  "language_info": {
   "codemirror_mode": {
    "name": "ipython",
    "version": 3
   },
   "file_extension": ".py",
   "mimetype": "text/x-python",
   "name": "python",
   "nbconvert_exporter": "python",
   "pygments_lexer": "ipython3",
   "version": "3.9.12"
  }
 },
 "nbformat": 4,
 "nbformat_minor": 5
}
